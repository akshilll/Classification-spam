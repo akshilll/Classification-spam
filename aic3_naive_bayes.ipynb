{
 "cells": [
  {
   "cell_type": "markdown",
   "metadata": {},
   "source": [
    "# Part 1: Spam or ham? (45 marks)\n",
    "\n",
    "In the spam literature, an email that is **not** spam is called _ham_. \n",
    "\n",
    "Your task is to develop a Naive Bayes classifier to determine whether a given email is spam or ham."
   ]
  },
  {
   "cell_type": "markdown",
   "metadata": {},
   "source": [
    "## The data: Spam!\n",
    "\n",
    "The following cell loads your training data set (called _training set_)."
   ]
  },
  {
   "cell_type": "code",
   "execution_count": 307,
   "metadata": {},
   "outputs": [
    {
     "name": "stdout",
     "output_type": "stream",
     "text": [
      "Shape of the spam training data set: (1000, 55)\n"
     ]
    }
   ],
   "source": [
    "import numpy as np\n",
    "\n",
    "training_spam = np.loadtxt(open(\"data/training_spam.csv\"), delimiter=\",\")\n",
    "print(\"Shape of the spam training data set:\", training_spam.shape)"
   ]
  },
  {
   "cell_type": "markdown",
   "metadata": {},
   "source": [
    "Your training set consists of 1000 rows and 55 columns. Each row corresponds to one email message. The first column is the _response_ variable and describes whether a message is spam (1) or ham (0). The remaining 54 columns are _features_ that you will use to build a classifier. These features correspond to 54 different keywords (such as \"money\", \"free\", and \"receive\") and special characters (such as \":\", \"!\", and \"$\"). A feature has the value \"1\" if the keyword appears in the message and \"0\" otherwise."
   ]
  },
  {
   "cell_type": "markdown",
   "metadata": {},
   "source": [
    "## The model:  Naïve Bayes\n",
    "Your [naïve Bayes](https://en.wikipedia.org/wiki/Naive_Bayes_classifier) classifier will distinguish between two classes:\n",
    "\n",
    "* **$C = 1$ for spam messages **\n",
    "* **$C = 0$ for ham messages. **\n",
    "\n",
    "\n",
    "The classifier builds a model for the probability $P(C=c\\ |\\ message)$ that a given message belongs to a certain class. A new message is then classified based on the Bayesian *maximum a posteriori* estimate\n",
    "\n",
    "\\begin{equation}\n",
    "\\hat{c} = \\underset{c \\in \\{0,1\\}}{argmax} \\  P(C=c\\ |\\ message).\n",
    "\\end{equation}\n",
    "\n",
    "Using Bayes' rule we can write\n",
    "\n",
    "\\begin{equation}\n",
    "P(C=c\\ |\\ message) = \\frac{P(message\\ |\\ C=c)P(C=c)}{P(message\\ |\\ C=1)P(C=1) + P(message\\ |\\ C=0)P(C=0)}.  \\quad \\quad \n",
    "\\end{equation}\n",
    "\n",
    "The denominator is the same for both classes and we can thus drop it to get\n",
    "\n",
    "\\begin{equation}\n",
    "P(C=c\\ |\\ message) \\propto P(message\\ |\\ C=c)P(C=c).\n",
    "\\end{equation}\n",
    "\n",
    "\n",
    "We represent a message using a binary [bag-of-words](https://en.wikipedia.org/wiki/Bag-of-words_model) model. Specifically, a message is represented as $\\mathbf{w} = (w_1, ..., w_k)$, where $w_i = 1$ if the word $w_i$ appears in the message and $w_i = 0$ otherwise. We assume **class-conditional independence between occurences of known words** and can therefore write \n",
    "\n",
    "\\begin{equation}\n",
    "P(message\\ |\\ C=c) = \\prod_{i = 1}^k P(w_i\\ |\\ C=c).\n",
    "\\end{equation}\n",
    "\n",
    "The classifier now can be written as follows :\n",
    "\n",
    "\\begin{equation}\n",
    "\\hat{c} = \\underset{c \\in \\{0,1\\}}{argmax} \\ [ P(C=c)   \\prod_{i = 1}^k P(w_i\\ |\\ C=c) ].\n",
    "\\end{equation}\n",
    "\n",
    "\n",
    "### Multinomial Naïve Bayes\n",
    "\n",
    "Different naïve Bayes models differ in their distributional assumptions of $P(w\\ |\\ C=c)$, that is, the conditional likelihood of a word $w$ given a class $c$. We will model $P(w\\ |\\ C=c)$ using a [multinomial distribution](https://en.wikipedia.org/wiki/Multinomial_distribution). Intuitively, the multinomial distribution assumes that the words of a message are \"drawn\" independently from a bag of $k$ different keywords. Depending on the class membership $c$, each keyword has a probability $\\theta_{class, word}$ of being drawn. For example,\n",
    "\n",
    "* $\\theta_{spam, w}$ will have high value for $w \\in \\{$bank, transfer, buy, viagra... $\\}$.\n",
    "* $\\theta_{ham, w}$ will have high value for $w \\in \\{$paper, conference, proposal, experiment... $\\}$, if the training data was mostly gathered from emails of researchers.\n",
    "\n",
    "Both the class priors $P(C=c)$ and the class-conditional likelihoods $\\theta_{c, w} = P(w\\ |\\ C=c)$ have to be estimated from the training data. The \n",
    "$\\theta_{c, w}$ are estimated by counting the relative frequencies in the training data. Use **Laplace-smoothing** with $\\alpha = 1$, that is,\n",
    "\n",
    "\\begin{equation}\n",
    "\\theta_{c, w} = \\frac{n_{c, w} + \\alpha}{n_{c} + k \\alpha},\n",
    "\\end{equation}\n",
    "\n",
    "where $n_{c, w}$ is the number of times the word $w$ appears in messages of class $c$ in the training set, $n_{c}$ is the total count of words for all messages of class $c$, and $k$ is the number of features (key-words).\n",
    "\n",
    "The likelihood of observing $\\mathbf{w}$ in a message of class $c$ is proportional to\n",
    "\\begin{equation}\n",
    "P(\\mathbf{w}\\ |\\ C=c) \\propto \\prod_{i = 1}^k  (\\theta_{c, i})^{w_i}.\n",
    "\\end{equation}\n",
    "\n",
    "### Increasing numerical stability\n",
    "We can increase the numerical stability of the algorithm by taking logarithms of the posterior distributions, that is,\n",
    "\\begin{equation}\n",
    "\\hat{c} = \\underset{c \\in \\{0,1\\}}{argmax} \\ log( P(C=c)   \\prod_{i = 1}^k P(w_i\\ |\\ C=c) ) \\\\\n",
    " = \\underset{c \\in \\{0,1\\}}{argmax} \\ [ log( P(C=c)) + \\sum_{i = 1}^k w_i \\ log(\\theta_{c, i}) ].\n",
    "\\end{equation}\n",
    "\n",
    "You will implement this more stable version of the algorithm in developing your classifier. "
   ]
  },
  {
   "cell_type": "markdown",
   "metadata": {},
   "source": [
    "## Part 1A: Estimate class priors (10 marks)\n",
    "\n",
    "Define a function called `estimate_log_class_priors()` that takes as input a data set with binary response variable (0s and 1s) in the left-most column and returns a numpy array containing the **the logarithm** of the empirical class priors $P(C=c)$ for $c \\in \\{0, 1\\}$."
   ]
  },
  {
   "cell_type": "code",
   "execution_count": 315,
   "metadata": {
    "deletable": false,
    "nbgrader": {
     "checksum": "508e5de25816a015e44a26b186d9ec48",
     "grade": false,
     "grade_id": "cell-f2d751b4a9e29087",
     "locked": false,
     "schema_version": 1,
     "solution": true
    }
   },
   "outputs": [],
   "source": [
    "import numpy as np\n",
    "def estimate_log_class_priors(data):\n",
    "    \"\"\"\n",
    "    Given a data set with binary response variable (0s and 1s) in the\n",
    "    left-most column, calculate the logarithm of the empirical class priors,\n",
    "    that is, the logarithm of the proportions of 0s and 1s:\n",
    "    log(P(C=0)) and log(P(C=1))\n",
    "\n",
    "    :param data: a two-dimensional numpy-array with shape = [n_samples, 1 + n_features]\n",
    "                 the first column contains the binary response (coded as 0s and 1s).\n",
    "\n",
    "    :return log_class_priors: a numpy array of length two\n",
    "    \"\"\"\n",
    "    num = len(data[:,1]) # number of samples\n",
    "\n",
    "    log_class_priors = np.zeros(2) \n",
    "    count = 0\n",
    "    for i in range(num):  #iterate over  samples\n",
    "        if data[i,0]==1: \n",
    "            count+=1 #if the sample is in class 1 increment\n",
    "    log_class_priors[0] = np.log((num-count)/num)\n",
    "    log_class_priors[1] = np.log(count/num)\n",
    "\n",
    "    return log_class_priors\n",
    "priors = estimate_log_class_priors(training_spam)\n"
   ]
  },
  {
   "cell_type": "code",
   "execution_count": 316,
   "metadata": {
    "deletable": false,
    "editable": false,
    "nbgrader": {
     "checksum": "94068b6b48e3efb516a1e04893b681c4",
     "grade": true,
     "grade_id": "cell-15a7409a814b361a",
     "locked": true,
     "points": 10,
     "schema_version": 1,
     "solution": false
    }
   },
   "outputs": [
    {
     "name": "stdout",
     "output_type": "stream",
     "text": [
      "result [-0.48939034 -0.94933059]\n"
     ]
    }
   ],
   "source": [
    "# This is a test cell. Do not delete or change. \n",
    "# You can use this cell to check whether the returned objects of your function are of the right data type.\n",
    "log_class_priors = estimate_log_class_priors(training_spam)\n",
    "print(\"result\", log_class_priors)\n",
    "\n",
    "# Check length\n",
    "assert(len(log_class_priors) == 2)\n",
    "\n",
    "# Check whether the returned object is a numpy.ndarray\n",
    "assert(isinstance(log_class_priors, np.ndarray))\n",
    "\n",
    "# Check wehther the values of this numpy.array are floats.\n",
    "assert(log_class_priors.dtype == float)\n"
   ]
  },
  {
   "cell_type": "markdown",
   "metadata": {},
   "source": [
    "## Part 1B: Estimate class-conditional likelihoods (10 marks)\n",
    "Define a function called `estimate_log_class_conditional_likelihoods()` that takes as input a data set with binary response variable (0s and 1s) in the left-most column and returns **the logarithm** of the empirical class-conditional likelihoods $log(P(w_i | c_j))$ for all words $w_i$ and both classes ($j \\in {0, 1}$). These parameters should be returned in a two-dimensional numpy-array with shape = `[num_classes, num_features]`.\n",
    "\n",
    "Assume a multinomial feature distribution and use Laplace smoothing with $\\alpha = 1$... basically add alpha to the numerator and number of classes to the denominator\n",
    "\n",
    "Hint: many `numpy`-functions contain an `axis` argument. If you specify `axis=0`, you can perform column-wise (that is, feature-wise!) computations."
   ]
  },
  {
   "cell_type": "code",
   "execution_count": 317,
   "metadata": {
    "deletable": false,
    "nbgrader": {
     "checksum": "cb5d42f2293bb3929365b535540241a6",
     "grade": false,
     "grade_id": "cell-717db5f875274543",
     "locked": false,
     "schema_version": 1,
     "solution": true
    }
   },
   "outputs": [],
   "source": [
    "def estimate_log_class_conditional_likelihoods(data, alpha=1.0):\n",
    "    \"\"\"\n",
    "    Given a data set with binary response variable (0s and 1s) in the\n",
    "    left-most column and binary features, calculate the empirical\n",
    "    class-conditional likelihoods, that is,\n",
    "    log(P(w_i  c_j)) for all features i and both classes (j in {0, 1}).\n",
    "\n",
    "    Assume a multinomial feature distribution and use Laplace smoothing\n",
    "    of alpha > 0.\n",
    "\n",
    "    :param data: a two-dimensional numpy-array with shape = [n_samples, n_features]\n",
    "\n",
    "    :return theta:\n",
    "        a numpy array of shape = [2, n_features]. theta[j, i] corresponds to the\n",
    "        logarithm of the probability of feature i appearing in a sample belonging \n",
    "        to class j.\n",
    "    \"\"\"\n",
    " \n",
    "    (num_s, num_f) = np.shape(data)\n",
    "    num_f +=-1    \n",
    "    c0 = data[data[:,0] == 0,1:] #take all the samples in class1\n",
    "    \n",
    "    c1 = data[data[:,0] == 1,1:] #take all the classes in class0\n",
    "\n",
    "    cond1 = np.sum(c1, axis =0) + alpha  #summ the number of features in each sample for samples in class 1\n",
    "    \n",
    "    cond0 = np.sum(c0, axis = 0) + alpha\n",
    "    n0 = np.sum(cond0) + (alpha*num_f) \n",
    "    n1 = np.sum(cond1) + (alpha*num_f)\n",
    "    theta = np.zeros((2,num_f))\n",
    "\n",
    "    theta[0,:] = np.log(cond0/n0)\n",
    "    theta[1,:] = np.log(cond1/n1)\n",
    "    #print(np.shape(c1),np.shape(c0),np.shape(cond1),np.shape(cond0), (n0), (n1))\n",
    "\n",
    "    return theta\n",
    "conditionals = estimate_log_class_conditional_likelihoods(training_spam, alpha=1.0)\n",
    "\n",
    "#print(conditionals)"
   ]
  },
  {
   "cell_type": "code",
   "execution_count": 318,
   "metadata": {
    "deletable": false,
    "editable": false,
    "nbgrader": {
     "checksum": "f339a9efd8aae50fb2dedbe175cbfdd5",
     "grade": true,
     "grade_id": "cell-851fa744923a9bba",
     "locked": true,
     "points": 10,
     "schema_version": 1,
     "solution": false
    }
   },
   "outputs": [],
   "source": [
    "# This is a test cell. Do not delete or change. \n",
    "# You can use this cell to check whether the returned objects of your function are of the right data type.\n",
    "log_class_conditional_likelihoods = estimate_log_class_conditional_likelihoods(training_spam, alpha=1.0)\n",
    "\n",
    "# Check data type(s)\n",
    "assert(isinstance(log_class_conditional_likelihoods, np.ndarray))\n",
    "\n",
    "# Check shape of numpy array\n",
    "assert(log_class_conditional_likelihoods.shape == (2, 54))\n",
    "\n",
    "# Check data type of array elements\n",
    "assert(log_class_conditional_likelihoods.dtype == float)\n"
   ]
  },
  {
   "cell_type": "markdown",
   "metadata": {},
   "source": [
    "## Part  1C: Classify e-mails (10 marks)\n",
    "\n",
    "Having calculated the log class priors and the log class-conditional likelihoods for a given training set, define a function called `predict()`that takes a data set of new messages as input and predicts for each message whether it is spam or not. Note that the input should **not** contain a response variable.\n",
    "\n",
    "Use your `predict()` function to classify the messages of your **training data set** `training_spam`. Compute the accuracy of your algorithm _in the training set_ by comparing your predictions to the true class values. Accuracy is simply defined as the proportion of true predictions made by your classifier. Store the accuracy of your naïve Bayes algorithm in a variable called `training_set_accuracy`."
   ]
  },
  {
   "cell_type": "code",
   "execution_count": 327,
   "metadata": {
    "deletable": false,
    "nbgrader": {
     "checksum": "a0607f6de9b1318ea89ecf982e1bbaa9",
     "grade": false,
     "grade_id": "cell-28f019cd03547bb7",
     "locked": false,
     "schema_version": 1,
     "solution": true
    },
    "scrolled": true
   },
   "outputs": [
    {
     "name": "stdout",
     "output_type": "stream",
     "text": [
      "0.892\n"
     ]
    }
   ],
   "source": [
    "def predict(new_data, log_class_priors, log_class_conditional_likelihoods):\n",
    "    \"\"\"\n",
    "    Given a new data set with binary features, predict the corresponding\n",
    "    response for each instance (row) of the new_data set.\n",
    "\n",
    "    :param new_data: a two-dimensional numpy-array with shape = [n_test_samples, n_features].\n",
    "    :param log_class_priors: [P(C=0), P(C=1)]\n",
    "    :param log_class_conditional_likelihoods: a numpy array of shape = [2, n_features].\n",
    "        theta[j, i] corresponds to the logarithm of the probability of feature i appearing\n",
    "        in a sample belonging to class j.\n",
    "    :return class_predictions: a numpy array containing the class predictions for each row\n",
    "        of new_data.\n",
    "    \"\"\"\n",
    "    # iterate over samples \n",
    "    # get a 1xnum_samples array of sums of activated log class conditionals.\n",
    "        # \n",
    "    # add this to the priors\n",
    "    \n",
    "    (n_test_samples, n_features) = np.shape(new_data)\n",
    "\n",
    "    class_predictions = np.full(n_test_samples, 2)\n",
    "    tmp1 = log_class_priors[1] # work out P(C=1)\n",
    "    tmp0 = log_class_priors[0] # P(C=0)\n",
    "\n",
    "    \n",
    "#    print(log_class_conditional_likelihoods)\n",
    "\n",
    "    for i in range(n_test_samples): # iterate through number of samples\n",
    "        k1 = np.multiply(new_data[i,:],log_class_conditional_likelihoods[1,:])\n",
    "        k0 = np.multiply(new_data[i,:],log_class_conditional_likelihoods[0,:])\n",
    "        #print(k1)\n",
    "        #print(k2)\n",
    "        count1 = np.sum(k1,0) # sum over the log conditional probabilities of active feat\n",
    "        count0 = np.sum(k0,0) # sum over log conditional probabilities of active feat\n",
    "        \n",
    "        #check which one is bigger\n",
    "        if tmp1+count1 > tmp0+count0:\n",
    "            class_predictions[i] = 1\n",
    "        else:\n",
    "            class_predictions[i] = 0\n",
    "            \n",
    "    return class_predictions\n",
    "\n",
    "def accuracy(y_predictions, y_true):\n",
    "    \"\"\"\n",
    "    Calculate the accuracy.\n",
    "    \n",
    "    :param y_predictions: a one-dimensional numpy array of predicted classes (0s and 1s).\n",
    "    :param y_true: a one-dimensional numpy array of true classes (0s and 1s).\n",
    "    \n",
    "    :return acc: a float between 0 and 1 \n",
    "    \"\"\"\n",
    "    ### YOUR CODE HERE...\n",
    "    count = 0\n",
    "    num = len(y_predictions)\n",
    "    for i in range(num):\n",
    "        if y_predictions[i] == y_true[i]:\n",
    "            count+=1\n",
    "        \n",
    "    return count/num\n",
    "class_predictions = predict(training_spam[:,1:],priors, conditionals)\n",
    "\n",
    "training_set_accuracy = accuracy(class_predictions,training_spam[:,0])\n",
    "print(training_set_accuracy)"
   ]
  },
  {
   "cell_type": "code",
   "execution_count": 320,
   "metadata": {
    "deletable": false,
    "editable": false,
    "nbgrader": {
     "checksum": "e2352476945f08f15e42cb0e94c070ad",
     "grade": true,
     "grade_id": "cell-4c8adaa150209180",
     "locked": true,
     "points": 10,
     "schema_version": 1,
     "solution": false
    }
   },
   "outputs": [],
   "source": [
    "# This is a test cell. Do not delete or change. \n",
    "# You can use this cell to check whether the returned objects of your function are of the right data type.\n",
    "class_predictions = predict(training_spam[:, 1:], log_class_priors, log_class_conditional_likelihoods)\n",
    "\n",
    "# Check data type(s)\n",
    "assert(isinstance(class_predictions, np.ndarray))\n",
    "\n",
    "# Check shape of numpy array\n",
    "assert(class_predictions.shape == (1000,))\n",
    "\n",
    "# Check data type of array elements\n",
    "assert(np.all(np.logical_or(class_predictions == 0, class_predictions == 1)))\n",
    "       \n",
    "# Check accuracy function\n",
    "true_classes = training_spam[:, 0]\n",
    "training_set_accuracy = accuracy(class_predictions, true_classes)\n",
    "assert(isinstance(training_set_accuracy, float))\n",
    "assert(0 <= training_set_accuracy <= 1)\n"
   ]
  },
  {
   "cell_type": "markdown",
   "metadata": {},
   "source": [
    "## Part 1D: Classifying previously unseen data (10 marks).\n",
    "The following cell loads a new set of 500 messages."
   ]
  },
  {
   "cell_type": "code",
   "execution_count": 292,
   "metadata": {},
   "outputs": [
    {
     "name": "stdout",
     "output_type": "stream",
     "text": [
      "Shape of the testing spam data set: (500, 55)\n"
     ]
    }
   ],
   "source": [
    "testing_spam = np.loadtxt(open(\"data/testing_spam.csv\"), delimiter=\",\")\n",
    "print(\"Shape of the testing spam data set:\", testing_spam.shape)\n",
    "#testing_spam"
   ]
  },
  {
   "cell_type": "markdown",
   "metadata": {},
   "source": [
    "Use the naïve Bayes algorithm that you trained on `training_spam` in order to classify all messages in the `testing_spam` data set. Store the resulting accuracy in a variable called `testing_set_accuracy`."
   ]
  },
  {
   "cell_type": "code",
   "execution_count": 329,
   "metadata": {
    "deletable": false,
    "nbgrader": {
     "checksum": "20ca424a81250cfca53ffa68c90a303d",
     "grade": false,
     "grade_id": "cell-fc141a44a0e708b1",
     "locked": false,
     "schema_version": 1,
     "solution": true
    }
   },
   "outputs": [
    {
     "name": "stdout",
     "output_type": "stream",
     "text": [
      "0.838\n"
     ]
    }
   ],
   "source": [
    "b= estimate_log_class_priors(training_spam)\n",
    "c= estimate_log_class_conditional_likelihoods(training_spam,1)\n",
    "testing_set_accuracy = accuracy(predict(testing_spam[:,1:], b, c),testing_spam[:,0])\n",
    "print(testing_set_accuracy)\n"
   ]
  },
  {
   "cell_type": "code",
   "execution_count": 326,
   "metadata": {
    "deletable": false,
    "editable": false,
    "nbgrader": {
     "checksum": "d89ad23b0827be47fd700442b2b7495c",
     "grade": true,
     "grade_id": "cell-e8b67052cb121115",
     "locked": true,
     "points": 10,
     "schema_version": 1,
     "solution": false
    }
   },
   "outputs": [],
   "source": [
    "# This is a test cell. Do not delete or change."
   ]
  },
  {
   "cell_type": "markdown",
   "metadata": {},
   "source": [
    "## Part 1E: Discussion (5 marks).\n"
   ]
  },
  {
   "cell_type": "markdown",
   "metadata": {
    "deletable": false,
    "nbgrader": {
     "checksum": "76ad4c938cfef7436ef6bc16eb732a8b",
     "grade": true,
     "grade_id": "cell-3e35b05a08d8d3af",
     "locked": false,
     "points": 5,
     "schema_version": 1,
     "solution": true
    }
   },
   "source": [
    "In 3 sentences or less: Compare the accuracy of your classifier on the training set and on the test set. Are they different? If yes, how do you explain the difference?\n",
    "\n",
    "YOUR ANSWER HERE:  <span style=\"color:red\"> The accuracy on the training set is higher, by 5.4% which isn't that much, than that of on the test set because I trained my classifier on the training set and so, I may have probably slightly overfit my model to the training set because of how small my data set is. However, Naive Bayes is really really simple so it is more likely just due to randomness. </span >\n",
    "\n"
   ]
  },
  {
   "cell_type": "markdown",
   "metadata": {
    "collapsed": true
   },
   "source": [
    "# Part 2: Zero or One? (55 marks)\n",
    "\n",
    "In this part of the coursework, you will develop a classifier for a different problem. All you will be given about this problem is a training data set. Your objective is to develop a classifier that will have the highest accuracy in unseen examples.\n",
    "\n",
    "The following cell loads the training data set."
   ]
  },
  {
   "cell_type": "code",
   "execution_count": 330,
   "metadata": {},
   "outputs": [
    {
     "name": "stdout",
     "output_type": "stream",
     "text": [
      "Shape of the training data set: (5000, 39)\n"
     ]
    }
   ],
   "source": [
    "import numpy as np\n",
    "\n",
    "training_data = np.loadtxt(open(\"data/training_data_part_2.csv\"), delimiter=\",\")\n",
    "print(\"Shape of the training data set:\", training_data.shape)\n"
   ]
  },
  {
   "cell_type": "markdown",
   "metadata": {},
   "source": [
    "The first column is again the response variable. The remaining 38 columns are binary features. You have multiple tasks:\n",
    "\n",
    "(1) Your first task is to write a function called `train()` that takes `training_data` as input and returns all the fitted parameters of your model. Note that the fitted parameters of your model depend on the model you choose. For example, if you use a naïve Bayes classifier, you could return a list of class priors and conditional likelihoods. (This function will allow us to compute your model on the fly. We should be able to execute it in less than 10 minutes.) \n",
    "\n",
    "(2) Your second task is to provide a variable called `fitted_model` which stores the model parameters you found by executing your train() function on the training_data. If your train function takes more than 20 seconds to run, this variable should load precomputed parameter values (possibly from a file) rather than execute the train() function. "
   ]
  },
  {
   "cell_type": "code",
   "execution_count": 334,
   "metadata": {
    "deletable": false,
    "nbgrader": {
     "checksum": "23c3e0da679c069e5777b574de97a69f",
     "grade": false,
     "grade_id": "cell-9284ab8e9721ffc2",
     "locked": false,
     "schema_version": 1,
     "solution": true
    }
   },
   "outputs": [],
   "source": [
    "import numpy as np \n",
    "from sklearn.linear_model import LogisticRegression\n",
    "import math\n",
    "\n",
    "#work out euclidean distance between two data instances\n",
    "def euclid(neighbour, test):\n",
    "    euc = math.sqrt(np.dot(neighbour,neighbour) + np.dot(test,test) - 2*np.dot(neighbour,test))\n",
    "    return euc\n",
    "#input training without \n",
    "def neighbours(training, test, k):\n",
    "    \n",
    "    [a,b] = np.shape(training)\n",
    "    distances = np.zeros(a)\n",
    "    for i in range(a):\n",
    "        distances[i] = euclid(test,training[i])\n",
    "    indices = np.argpartition(distances, k)[:k]\n",
    "    return indices\n",
    "    \n",
    "def vote(training, neighbours):\n",
    "    v = np.mean(training[neighbours],0)[0]\n",
    "    if v >0.5:\n",
    "        return 1\n",
    "    return 0\n",
    "    \n",
    "    \n",
    "def data_split(dataset, k):\n",
    "    [a,_] = np.shape(dataset)\n",
    "    split = int(a/k)\n",
    "    np.random.shuffle(dataset)\n",
    "    sets = np.split(dataset,k)\n",
    "    sets= np.asarray(sets)\n",
    "    return sets\n",
    "\n",
    "def cross_val(sets, model = \"kNN\"):\n",
    "    [a,b,c] = np.shape(sets)\n",
    "    acc = np.zeros(10)\n",
    "    k = 5\n",
    "    for i in range(a-1):\n",
    "        \n",
    "        ka = np.arange(10)\n",
    "        kb = np.delete(ka, i)\n",
    "        test = sets[i]\n",
    "        tmp = sets[kb]\n",
    "        training = np.reshape(tmp,(int(0.9*a*b),c))\n",
    "        if model == \"Naive\":\n",
    "            b= estimate_log_class_priors(training)\n",
    "            c= estimate_log_class_conditional_likelihoods(training,1)\n",
    "            testing_set_accuracy = predict(test[:,1:], b, c)\n",
    "        elif model == \"logistic_regression\":\n",
    "            logistic = LogisticRegression()\n",
    "            logistic.fit(training[:4500,1:],training[:4500,0])\n",
    "            testing_set_accuracy = logistic.predict(test[:,1:])\n",
    "        else:\n",
    "            testing_set_accuracy = np.zeros(int(a*b*0.1))\n",
    "            for j in range(int(a*b*0.1)):\n",
    "                idc = neighbours(training[:,1:], test[j,1:],k)\n",
    "                testing_set_accuracy[j] = vote(training,idc)\n",
    "        acc[i] = accuracy(testing_set_accuracy,test[:,0])\n",
    "    out = np.mean(acc)\n",
    "    \n",
    "    return out\n",
    "    \n",
    "\n",
    "def train(training_data):\n",
    "    \"\"\"\n",
    "    Train a model on the training_data\n",
    "\n",
    "    :param training_data: a two-dimensional numpy-array with shape = [5000,39] \n",
    "    \n",
    "    :return fitted_model: any data structure that captures your model\n",
    "    \"\"\"\n",
    "    return training_data\n",
    "\n",
    "## Uncomment one of the following two lines depending on whether you want us to compute your model on the \n",
    "## fly or load a supplementary file.\n",
    "\n",
    "\n",
    "fitted_model = train(training_data)\n"
   ]
  },
  {
   "cell_type": "markdown",
   "metadata": {},
   "source": [
    "(3) Your third task is to provide a function called `test()` that uses your `fitted_model` to classify the observations of `testing_data`. The `testing_data` is hidden and may contain any number of observations (rows). It contains 38 columns that have the same structure as the features of `training_data`. "
   ]
  },
  {
   "cell_type": "code",
   "execution_count": 332,
   "metadata": {
    "deletable": false,
    "nbgrader": {
     "checksum": "b3fc3fe71460b40e1a17abe273a2b011",
     "grade": false,
     "grade_id": "cell-b62974b058e95e23",
     "locked": false,
     "schema_version": 1,
     "solution": true
    }
   },
   "outputs": [],
   "source": [
    "\n",
    "            \n",
    "def test(testing_data, fitted_model):\n",
    "    \"\"\"\n",
    "    Classify the rows of testing_data using a fitted_model. \n",
    "\n",
    "    :param testing_data: a two-dimensional numpy-array with shape = [n_test_samples, 38]\n",
    "    :param fitted_model: the output of your train function.\n",
    "\n",
    "    :return class_predictions: a numpy array containing the class predictions for each row\n",
    "        of testing_data.\n",
    "    \"\"\"\n",
    "    [a,_] = np.shape(testing_data)\n",
    "    class_predictions = np.full(a,2)\n",
    "    for j in range(a):\n",
    "        idc = neighbours(fitted_model[:,1:], testing_data[j,:],5)\n",
    "        class_predictions[j] = vote(fitted_model,idc)\n",
    "    \n",
    "    return class_predictions"
   ]
  },
  {
   "cell_type": "code",
   "execution_count": 333,
   "metadata": {
    "deletable": false,
    "editable": false,
    "nbgrader": {
     "checksum": "8e632be3b415f26b688aaf8da8354865",
     "grade": true,
     "grade_id": "cell-d6503e588628ad10",
     "locked": true,
     "points": 0,
     "schema_version": 1,
     "solution": false
    }
   },
   "outputs": [],
   "source": [
    "# This is a test cell. Do not delete or change. \n",
    "# You can use this cell to check whether the returned objects of your function are of the right data type.\n",
    "\n",
    "# Test data types if input are the first 20 rows of the training_data.\n",
    "class_predictions = test(training_data[:20, 1:], fitted_model)\n",
    "\n",
    "# Check data type(s)\n",
    "assert(isinstance(class_predictions, np.ndarray))\n",
    "\n",
    "# Check shape of numpy array\n",
    "assert(class_predictions.shape == (20,))\n",
    "\n",
    "# Check data type of array elements\n",
    "assert(np.all(np.logical_or(class_predictions == 0, class_predictions == 1)))\n"
   ]
  },
  {
   "attachments": {
    "classifier.png": {
     "image/png": "[encoded data removed]"
    }
   },
   "cell_type": "markdown",
   "metadata": {
    "deletable": false,
    "nbgrader": {
     "checksum": "4c72e9d23d320745c0b4971d557c7ab3",
     "grade": true,
     "grade_id": "cell-1d336f7ffecd8f71",
     "locked": false,
     "points": 55,
     "schema_version": 1,
     "solution": true
    }
   },
   "source": [
    "Describe in less than 10 sentences: Explain your classifier. Comment on its performance. What other alternative classifiers did you consider or experiment with? How does the performance of your classifier change as the size of the training set increases? You may want to include figures. \n",
    "\n",
    "\n",
    "<span style = 'color:red'>\n",
    "I first implemented k fold cross validation to test the accuracy of my Naive Bayes which resulted in a meanaccuracy of 79.8% over 5 tests.\n",
    "Then I used sklearn's Logistic Regression and tested it using my cross validation which resulted in a mean accuracy of 83.9% over 5 tests.\n",
    "Tested kNN with k = 5 accuracy 84.6%. I chose k=5 after experimenting with k = 3,4,5,6 because it gave me the best accuracy after cross validation.\n",
    "I chose to go with k Nearest Neighbors in the end which works by computing between the euclidean distance between the test instance and all of the training samples to find the k training samples closest to the test instance. I then took a mode of the classes for these neighbours as the predicted class for the testing instance. \n",
    "As shown below in the figure my kNN classifier's accuracy increased at a decreasing rate as training sample size increased.\n",
    "\n",
    "</span>\n",
    "\n",
    "![classifier.png](attachment:classifier.png)"
   ]
  },
  {
   "cell_type": "code",
   "execution_count": null,
   "metadata": {},
   "outputs": [],
   "source": []
  }
 ],
 "metadata": {
  "kernelspec": {
   "display_name": "Python 3",
   "language": "python",
   "name": "python3"
  },
  "language_info": {
   "codemirror_mode": {
    "name": "ipython",
    "version": 3
   },
   "file_extension": ".py",
   "mimetype": "text/x-python",
   "name": "python",
   "nbconvert_exporter": "python",
   "pygments_lexer": "ipython3",
   "version": "3.6.4"
  }
 },
 "nbformat": 4,
 "nbformat_minor": 2
}
